{
 "cells": [
  {
   "cell_type": "code",
   "execution_count": 10,
   "metadata": {},
   "outputs": [
    {
     "name": "stdout",
     "output_type": "stream",
     "text": [
      "certo1\n"
     ]
    },
    {
     "data": {
      "text/plain": [
       "''"
      ]
     },
     "execution_count": 10,
     "metadata": {},
     "output_type": "execute_result"
    }
   ],
   "source": [
    "from selenium import webdriver \n",
    "from webdriver_manager.chrome import ChromeDriverManager\n",
    "from selenium.webdriver.chrome.service import Service\n",
    "from selenium.webdriver.common.keys import Keys\n",
    "from selenium.webdriver.common.by import By\n",
    "import time\n",
    "from selenium.webdriver.common.action_chains import ActionChains\n",
    "from bs4 import BeautifulSoup\n",
    "import re\n",
    "from datetime import date\n",
    "\n",
    "servico = Service(ChromeDriverManager().install())\n",
    "\n",
    "opcoes = webdriver.ChromeOptions()\n",
    "\n",
    "prefs = {r\"download.default_directory\" : r\"L:\\COORDENAÇÃO DE ESTUDOS E PESQUISAS\\TÉCNICOS E ESTAGIÁRIOS\\CESAR AUGUSO\\TXT_TURMA_BOT\"}\n",
    "\n",
    "opcoes.add_experimental_option(\"prefs\",prefs)\n",
    "opcoes.add_argument(\"--headless\")\n",
    "\n",
    "navegador = webdriver.Chrome(service=servico, options=opcoes)\n",
    "print(\"certo1\")\n",
    "\n",
    "navegador.get('https://servicos.sigeam.am.gov.br/login/login.asp')\n",
    "input()"
   ]
  }
 ],
 "metadata": {
  "kernelspec": {
   "display_name": "venv",
   "language": "python",
   "name": "python3"
  },
  "language_info": {
   "codemirror_mode": {
    "name": "ipython",
    "version": 3
   },
   "file_extension": ".py",
   "mimetype": "text/x-python",
   "name": "python",
   "nbconvert_exporter": "python",
   "pygments_lexer": "ipython3",
   "version": "3.11.7"
  }
 },
 "nbformat": 4,
 "nbformat_minor": 2
}
